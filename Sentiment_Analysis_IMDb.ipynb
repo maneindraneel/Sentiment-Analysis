{
  "nbformat": 4,
  "nbformat_minor": 0,
  "metadata": {
    "colab": {
      "name": "Sentiment-Analysis-IMDb.ipynb",
      "provenance": [],
      "collapsed_sections": [],
      "toc_visible": true,
      "machine_shape": "hm"
    },
    "kernelspec": {
      "name": "python3",
      "display_name": "Python 3"
    },
    "accelerator": "GPU"
  },
  "cells": [
    {
      "cell_type": "markdown",
      "metadata": {
        "id": "HEA8thPPuIHc"
      },
      "source": [
        "# Importing Libraries"
      ]
    },
    {
      "cell_type": "code",
      "metadata": {
        "id": "hlB_xbfRuQbs"
      },
      "source": [
        "import pandas as pd\n",
        "import numpy as np\n",
        "import tensorflow as tf\n",
        "import re\n",
        "import nltk\n",
        "import string\n",
        "from nltk.tokenize import TweetTokenizer\n",
        "from nltk.corpus import stopwords\n",
        "from nltk.tokenize import word_tokenize\n",
        "from nltk.corpus import wordnet\n",
        "from nltk.stem.wordnet import WordNetLemmatizer\n",
        "from sklearn.naive_bayes import MultinomialNB\n",
        "from sklearn.model_selection import train_test_split\n",
        "from sklearn.metrics import accuracy_score\n",
        "from sklearn.neighbors import KNeighborsClassifier\n",
        "from sklearn.discriminant_analysis import LinearDiscriminantAnalysis\n",
        "from sklearn.linear_model import LogisticRegression\n",
        "from sklearn.tree import DecisionTreeClassifier\n",
        "from sklearn.metrics import confusion_matrix,classification_report\n",
        "from sklearn.metrics import roc_auc_score, roc_curve\n",
        "from matplotlib import pyplot as plt\n",
        "from sklearn.feature_extraction.text import CountVectorizer\n",
        "from keras.preprocessing import sequence \n",
        "from sklearn.ensemble import RandomForestClassifier\n",
        "from keras.layers import Embedding, LSTM, Dense, Dropout\n",
        "from keras.preprocessing.sequence import pad_sequences\n",
        "from sklearn.ensemble import RandomForestClassifier\n",
        "from sklearn.ensemble import AdaBoostClassifier\n",
        "from sklearn.svm import LinearSVC"
      ],
      "execution_count": null,
      "outputs": []
    },
    {
      "cell_type": "code",
      "metadata": {
        "id": "qYh8-A8iBPgM",
        "colab": {
          "base_uri": "https://localhost:8080/",
          "height": 168
        },
        "outputId": "1130b637-f055-446c-fb4d-05ea6b5be9c4"
      },
      "source": [
        "nltk.download('wordnet')\n",
        "nltk.download('stopwords')\n",
        "nltk.download('averaged_perceptron_tagger')"
      ],
      "execution_count": null,
      "outputs": [
        {
          "output_type": "stream",
          "text": [
            "[nltk_data] Downloading package wordnet to /root/nltk_data...\n",
            "[nltk_data]   Package wordnet is already up-to-date!\n",
            "[nltk_data] Downloading package stopwords to /root/nltk_data...\n",
            "[nltk_data]   Package stopwords is already up-to-date!\n",
            "[nltk_data] Downloading package averaged_perceptron_tagger to\n",
            "[nltk_data]     /root/nltk_data...\n",
            "[nltk_data]   Package averaged_perceptron_tagger is already up-to-\n",
            "[nltk_data]       date!\n"
          ],
          "name": "stdout"
        },
        {
          "output_type": "execute_result",
          "data": {
            "text/plain": [
              "True"
            ]
          },
          "metadata": {
            "tags": []
          },
          "execution_count": 120
        }
      ]
    },
    {
      "cell_type": "markdown",
      "metadata": {
        "id": "kTOF6IMTuD4o"
      },
      "source": [
        "# Importing data from drive"
      ]
    },
    {
      "cell_type": "code",
      "metadata": {
        "id": "S0AEjL1GvLhs",
        "colab": {
          "base_uri": "https://localhost:8080/",
          "height": 34
        },
        "outputId": "27b537c4-c921-425b-edf5-80c890ebc000"
      },
      "source": [
        "from google.colab import drive\n",
        "drive.mount('/gdrive')"
      ],
      "execution_count": null,
      "outputs": [
        {
          "output_type": "stream",
          "text": [
            "Drive already mounted at /gdrive; to attempt to forcibly remount, call drive.mount(\"/gdrive\", force_remount=True).\n"
          ],
          "name": "stdout"
        }
      ]
    },
    {
      "cell_type": "code",
      "metadata": {
        "id": "PGiK7AKsuhBb"
      },
      "source": [
        "train_df = pd.read_csv('/gdrive/My Drive/IMDb_review_dataset/train_data.csv')\n",
        "test_df = pd.read_csv('/gdrive/My Drive/IMDb_review_dataset/test_data.csv')"
      ],
      "execution_count": null,
      "outputs": []
    },
    {
      "cell_type": "code",
      "metadata": {
        "id": "x2ZqntMKx8QV",
        "colab": {
          "base_uri": "https://localhost:8080/",
          "height": 374
        },
        "outputId": "13a079de-31b1-40b2-a68c-10424f2e974e"
      },
      "source": [
        "display(train_df.head())\n",
        "display(test_df.tail())"
      ],
      "execution_count": null,
      "outputs": [
        {
          "output_type": "display_data",
          "data": {
            "text/html": [
              "<div>\n",
              "<style scoped>\n",
              "    .dataframe tbody tr th:only-of-type {\n",
              "        vertical-align: middle;\n",
              "    }\n",
              "\n",
              "    .dataframe tbody tr th {\n",
              "        vertical-align: top;\n",
              "    }\n",
              "\n",
              "    .dataframe thead th {\n",
              "        text-align: right;\n",
              "    }\n",
              "</style>\n",
              "<table border=\"1\" class=\"dataframe\">\n",
              "  <thead>\n",
              "    <tr style=\"text-align: right;\">\n",
              "      <th></th>\n",
              "      <th>File_index</th>\n",
              "      <th>Reviews</th>\n",
              "      <th>Rating</th>\n",
              "      <th>Label</th>\n",
              "    </tr>\n",
              "  </thead>\n",
              "  <tbody>\n",
              "    <tr>\n",
              "      <th>0</th>\n",
              "      <td>0</td>\n",
              "      <td>Bromwell High is a cartoon comedy. It ran at t...</td>\n",
              "      <td>9</td>\n",
              "      <td>1</td>\n",
              "    </tr>\n",
              "    <tr>\n",
              "      <th>1</th>\n",
              "      <td>10000</td>\n",
              "      <td>Homelessness (or Houselessness as George Carli...</td>\n",
              "      <td>8</td>\n",
              "      <td>1</td>\n",
              "    </tr>\n",
              "    <tr>\n",
              "      <th>2</th>\n",
              "      <td>10001</td>\n",
              "      <td>Brilliant over-acting by Lesley Ann Warren. Be...</td>\n",
              "      <td>10</td>\n",
              "      <td>1</td>\n",
              "    </tr>\n",
              "    <tr>\n",
              "      <th>3</th>\n",
              "      <td>10002</td>\n",
              "      <td>This is easily the most underrated film inn th...</td>\n",
              "      <td>7</td>\n",
              "      <td>1</td>\n",
              "    </tr>\n",
              "    <tr>\n",
              "      <th>4</th>\n",
              "      <td>10003</td>\n",
              "      <td>This is not the typical Mel Brooks film. It wa...</td>\n",
              "      <td>8</td>\n",
              "      <td>1</td>\n",
              "    </tr>\n",
              "  </tbody>\n",
              "</table>\n",
              "</div>"
            ],
            "text/plain": [
              "   File_index                                            Reviews  Rating  Label\n",
              "0           0  Bromwell High is a cartoon comedy. It ran at t...       9      1\n",
              "1       10000  Homelessness (or Houselessness as George Carli...       8      1\n",
              "2       10001  Brilliant over-acting by Lesley Ann Warren. Be...      10      1\n",
              "3       10002  This is easily the most underrated film inn th...       7      1\n",
              "4       10003  This is not the typical Mel Brooks film. It wa...       8      1"
            ]
          },
          "metadata": {
            "tags": []
          }
        },
        {
          "output_type": "display_data",
          "data": {
            "text/html": [
              "<div>\n",
              "<style scoped>\n",
              "    .dataframe tbody tr th:only-of-type {\n",
              "        vertical-align: middle;\n",
              "    }\n",
              "\n",
              "    .dataframe tbody tr th {\n",
              "        vertical-align: top;\n",
              "    }\n",
              "\n",
              "    .dataframe thead th {\n",
              "        text-align: right;\n",
              "    }\n",
              "</style>\n",
              "<table border=\"1\" class=\"dataframe\">\n",
              "  <thead>\n",
              "    <tr style=\"text-align: right;\">\n",
              "      <th></th>\n",
              "      <th>File_index</th>\n",
              "      <th>Reviews</th>\n",
              "      <th>Rating</th>\n",
              "      <th>Label</th>\n",
              "    </tr>\n",
              "  </thead>\n",
              "  <tbody>\n",
              "    <tr>\n",
              "      <th>24995</th>\n",
              "      <td>9998</td>\n",
              "      <td>I occasionally let my kids watch this garbage ...</td>\n",
              "      <td>1</td>\n",
              "      <td>0</td>\n",
              "    </tr>\n",
              "    <tr>\n",
              "      <th>24996</th>\n",
              "      <td>9999</td>\n",
              "      <td>When all we have anymore is pretty much realit...</td>\n",
              "      <td>1</td>\n",
              "      <td>0</td>\n",
              "    </tr>\n",
              "    <tr>\n",
              "      <th>24997</th>\n",
              "      <td>999</td>\n",
              "      <td>The basic genre is a thriller intercut with an...</td>\n",
              "      <td>3</td>\n",
              "      <td>0</td>\n",
              "    </tr>\n",
              "    <tr>\n",
              "      <th>24998</th>\n",
              "      <td>99</td>\n",
              "      <td>Four things intrigued me as to this film - fir...</td>\n",
              "      <td>3</td>\n",
              "      <td>0</td>\n",
              "    </tr>\n",
              "    <tr>\n",
              "      <th>24999</th>\n",
              "      <td>9</td>\n",
              "      <td>David Bryce's comments nearby are exceptionall...</td>\n",
              "      <td>4</td>\n",
              "      <td>0</td>\n",
              "    </tr>\n",
              "  </tbody>\n",
              "</table>\n",
              "</div>"
            ],
            "text/plain": [
              "       File_index  ... Label\n",
              "24995        9998  ...     0\n",
              "24996        9999  ...     0\n",
              "24997         999  ...     0\n",
              "24998          99  ...     0\n",
              "24999           9  ...     0\n",
              "\n",
              "[5 rows x 4 columns]"
            ]
          },
          "metadata": {
            "tags": []
          }
        }
      ]
    },
    {
      "cell_type": "code",
      "metadata": {
        "id": "U4mHmO1sxz_F"
      },
      "source": [
        "train_X = train_df['Reviews'].tolist()\n",
        "test_X = test_df['Reviews'].tolist()\n",
        "train_labels = train_df['Label']\n",
        "test_labels = test_df['Label']"
      ],
      "execution_count": null,
      "outputs": []
    },
    {
      "cell_type": "markdown",
      "metadata": {
        "id": "0tSdh6Cqth9o"
      },
      "source": [
        "# Accuracy without preprocessing data"
      ]
    },
    {
      "cell_type": "code",
      "metadata": {
        "id": "wPYzOqqYs4w6"
      },
      "source": [
        "wp_vectorizer = CountVectorizer(max_features=10000)\n",
        "wp_cv_train = wp_vectorizer.fit_transform(train_X).toarray()\n",
        "wp_cv_test = wp_vectorizer.fit_transform(test_X).toarray()"
      ],
      "execution_count": null,
      "outputs": []
    },
    {
      "cell_type": "markdown",
      "metadata": {
        "id": "mnGXWgzLtmTA"
      },
      "source": [
        "## Logistic regression"
      ]
    },
    {
      "cell_type": "code",
      "metadata": {
        "id": "f4i7x3fUtCi0",
        "colab": {
          "base_uri": "https://localhost:8080/",
          "height": 87
        },
        "outputId": "13bd7cec-bb83-400d-f6bb-3b042c897658"
      },
      "source": [
        "wp_cv_log = LogisticRegression()\n",
        "wp_cv_log.fit(wp_cv_train, train_labels)\n",
        "wp_cv_log_pred = wp_cv_log.predict(wp_cv_test)\n",
        "print(accuracy_score(wp_cv_log_pred, test_labels))"
      ],
      "execution_count": null,
      "outputs": [
        {
          "output_type": "stream",
          "text": [
            "/usr/local/lib/python3.6/dist-packages/sklearn/linear_model/logistic.py:432: FutureWarning: Default solver will be changed to 'lbfgs' in 0.22. Specify a solver to silence this warning.\n",
            "  FutureWarning)\n"
          ],
          "name": "stderr"
        },
        {
          "output_type": "stream",
          "text": [
            "0.52152\n"
          ],
          "name": "stdout"
        }
      ]
    },
    {
      "cell_type": "markdown",
      "metadata": {
        "id": "hp8I4A4Si1dS"
      },
      "source": [
        "## Linear SVC"
      ]
    },
    {
      "cell_type": "code",
      "metadata": {
        "id": "_Kje9HVLfiCO",
        "colab": {
          "base_uri": "https://localhost:8080/",
          "height": 87
        },
        "outputId": "113fa88b-ca2b-401c-c40a-25069b2313ba"
      },
      "source": [
        "wp_cv_svc = LinearSVC()\n",
        "wp_cv_svc.fit(wp_cv_train, train_labels)\n",
        "wp_cv_svc_pred = wp_cv_svc.predict(wp_cv_test)\n",
        "print(accuracy_score(wp_cv_svc_pred, test_labels))"
      ],
      "execution_count": null,
      "outputs": [
        {
          "output_type": "stream",
          "text": [
            "/usr/local/lib/python3.6/dist-packages/sklearn/svm/base.py:929: ConvergenceWarning: Liblinear failed to converge, increase the number of iterations.\n",
            "  \"the number of iterations.\", ConvergenceWarning)\n"
          ],
          "name": "stderr"
        },
        {
          "output_type": "stream",
          "text": [
            "0.52476\n"
          ],
          "name": "stdout"
        }
      ]
    },
    {
      "cell_type": "markdown",
      "metadata": {
        "id": "MT8uJeIFoJKL"
      },
      "source": [
        "# DATA PREPROCESSING"
      ]
    },
    {
      "cell_type": "markdown",
      "metadata": {
        "id": "7auffdCUoNFG"
      },
      "source": [
        "## Removing html tags"
      ]
    },
    {
      "cell_type": "code",
      "metadata": {
        "id": "SRSOMdXaAojH"
      },
      "source": [
        "#remove html tags\n",
        "def strip_html_tag(sample):\n",
        "    cleanr = re.compile(r\"\\<[^\\>]*\\>|\\\\\")\n",
        "    return re.sub(cleanr, '', sample)"
      ],
      "execution_count": null,
      "outputs": []
    },
    {
      "cell_type": "code",
      "metadata": {
        "id": "rGjYDLH9ApkS"
      },
      "source": [
        "train_X = list(map(strip_html_tag, train_X))\n",
        "test_X = list(map(strip_html_tag, test_X))"
      ],
      "execution_count": null,
      "outputs": []
    },
    {
      "cell_type": "markdown",
      "metadata": {
        "id": "5VvrruEsoQk8"
      },
      "source": [
        "## Converting all text to lowercase"
      ]
    },
    {
      "cell_type": "code",
      "metadata": {
        "id": "17wMsoDAA9kC"
      },
      "source": [
        "#Converting string to lower case\n",
        "def string_lower(sample):\n",
        "    sample.replace('.',' . ')\n",
        "    return sample.lower()"
      ],
      "execution_count": null,
      "outputs": []
    },
    {
      "cell_type": "code",
      "metadata": {
        "id": "Jum6vF_lBABN"
      },
      "source": [
        "train_X = list(map(string_lower, train_X))\n",
        "test_X = list(map(string_lower, test_X))"
      ],
      "execution_count": null,
      "outputs": []
    },
    {
      "cell_type": "markdown",
      "metadata": {
        "id": "24wa5yTOoVb9"
      },
      "source": [
        "## Tokenize all texts"
      ]
    },
    {
      "cell_type": "code",
      "metadata": {
        "id": "uy-hU6D8BEos"
      },
      "source": [
        "# Tokenize\n",
        "def tokenize_text(sample):\n",
        "    tokenizer = TweetTokenizer()\n",
        "    return tokenizer.tokenize(sample)"
      ],
      "execution_count": null,
      "outputs": []
    },
    {
      "cell_type": "code",
      "metadata": {
        "id": "KzSrt9P0BE3k"
      },
      "source": [
        "train_X = list(map(tokenize_text,train_X))\n",
        "test_X = list(map(tokenize_text,test_X))"
      ],
      "execution_count": null,
      "outputs": []
    },
    {
      "cell_type": "markdown",
      "metadata": {
        "id": "CwisYmgeoZl4"
      },
      "source": [
        "## Remove stop words"
      ]
    },
    {
      "cell_type": "code",
      "metadata": {
        "id": "zgWkIRf9BE-I"
      },
      "source": [
        "# Remove stop words\n",
        "def stopword_remover(sample):\n",
        "    stopwords_list = set(stopwords.words('english'))\n",
        "    sample_wostopword = []\n",
        "    for i in sample:\n",
        "        if i not in stopwords_list:\n",
        "            sample_wostopword.append(i) \n",
        "    return sample_wostopword"
      ],
      "execution_count": null,
      "outputs": []
    },
    {
      "cell_type": "code",
      "metadata": {
        "id": "cIlvwofUBFAI"
      },
      "source": [
        "train_X = list(map(stopword_remover,train_X))\n",
        "test_X = list(map(stopword_remover,test_X))"
      ],
      "execution_count": null,
      "outputs": []
    },
    {
      "cell_type": "markdown",
      "metadata": {
        "id": "Pqj7QisJocwv"
      },
      "source": [
        "## Remove punctuations"
      ]
    },
    {
      "cell_type": "code",
      "metadata": {
        "id": "UkFATXE8BFCr"
      },
      "source": [
        "# Remove punctuations\n",
        "def punctuation_remover(sample):\n",
        "    sample_wostopword_wopunc = []\n",
        "    for i in sample:\n",
        "        if i not in string.punctuation:\n",
        "            sample_wostopword_wopunc.append(i)\n",
        "    return sample_wostopword_wopunc"
      ],
      "execution_count": null,
      "outputs": []
    },
    {
      "cell_type": "code",
      "metadata": {
        "id": "qdD1l2KNBFEi"
      },
      "source": [
        "train_X = list(map(punctuation_remover,train_X))\n",
        "test_X = list(map(punctuation_remover,test_X))"
      ],
      "execution_count": null,
      "outputs": []
    },
    {
      "cell_type": "markdown",
      "metadata": {
        "id": "KQeYbzcmoguM"
      },
      "source": [
        "## Adding parts of speech to each word"
      ]
    },
    {
      "cell_type": "code",
      "metadata": {
        "id": "cWq3zW99BFHs"
      },
      "source": [
        "# Parts of speech\n",
        "def text_pos_tag(sample):\n",
        "    return nltk.pos_tag(sample)"
      ],
      "execution_count": null,
      "outputs": []
    },
    {
      "cell_type": "code",
      "metadata": {
        "id": "TFB2lFSiBFK1"
      },
      "source": [
        "train_X = list(map(text_pos_tag,train_X))\n",
        "test_X = list(map(text_pos_tag,test_X))"
      ],
      "execution_count": null,
      "outputs": []
    },
    {
      "cell_type": "markdown",
      "metadata": {
        "id": "k5qnZL7Wol47"
      },
      "source": [
        "## Lemmatize tokens"
      ]
    },
    {
      "cell_type": "code",
      "metadata": {
        "id": "qh-MPgxzB_zc"
      },
      "source": [
        "def lemmatize(token):\n",
        "    word, tag = token\n",
        "    \n",
        "    lemmatizer = WordNetLemmatizer()\n",
        "    \n",
        "    if word not in list(\".,;'\\\"-\"):\n",
        "        return lemmatizer.lemmatize(word, get_wordnet_pos(tag))\n",
        "    \n",
        "    return word"
      ],
      "execution_count": null,
      "outputs": []
    },
    {
      "cell_type": "code",
      "metadata": {
        "id": "GTjmF205B_8N"
      },
      "source": [
        "def get_wordnet_pos(tag):\n",
        "    if tag.startswith('J'):\n",
        "        return wordnet.ADJ\n",
        "    elif tag.startswith('V'):\n",
        "        return wordnet.VERB\n",
        "    elif tag.startswith('N'):\n",
        "        return wordnet.NOUN\n",
        "    elif tag.startswith('R'):\n",
        "        return wordnet.ADV\n",
        "    else:\n",
        "        return wordnet.NOUN"
      ],
      "execution_count": null,
      "outputs": []
    },
    {
      "cell_type": "code",
      "metadata": {
        "id": "ytBBexqBB__5"
      },
      "source": [
        "# Lemmatize all reviews\n",
        "def lemmatized_text(sample):\n",
        "    return list(map(lemmatize,sample))"
      ],
      "execution_count": null,
      "outputs": []
    },
    {
      "cell_type": "code",
      "metadata": {
        "id": "3lE_6Dp6CADq"
      },
      "source": [
        "train_X = list(map(lemmatized_text,train_X))\n",
        "test_X = list(map(lemmatized_text,test_X))"
      ],
      "execution_count": null,
      "outputs": []
    },
    {
      "cell_type": "markdown",
      "metadata": {
        "id": "USx-Rf0_oqjr"
      },
      "source": [
        "## Cleaned text"
      ]
    },
    {
      "cell_type": "code",
      "metadata": {
        "id": "0LZWa3ZPB_6W"
      },
      "source": [
        "# Combine token to form sentences as countvactorizer need sentence as input\n",
        "train_X = list(map(lambda x: \" \".join(x), train_X))\n",
        "test_X = list(map(lambda x: \" \".join(x), test_X))"
      ],
      "execution_count": null,
      "outputs": []
    },
    {
      "cell_type": "code",
      "metadata": {
        "id": "tGNmpHiUOhXb",
        "colab": {
          "base_uri": "https://localhost:8080/",
          "height": 54
        },
        "outputId": "78c7583d-51a8-4ce6-fb39-9c2ba9cda6c7"
      },
      "source": [
        "train_X[1]"
      ],
      "execution_count": null,
      "outputs": [
        {
          "output_type": "execute_result",
          "data": {
            "text/plain": [
              "\"homelessness houselessness george carlin state issue year never plan help street consider human everything go school work vote matter people think homeless lose cause worry thing racism war iraq pressure kid succeed technology election inflation worry they'll next end streets.but give bet live street month without luxury home entertainment set bathroom picture wall computer everything treasure see like homeless goddard bolt's lesson.mel brook directs star bolt play rich man everything world decide make bet sissy rival jeffery tambor see live street thirty day without luxury bolt succeed want future project make building bet's bolt thrown street bracelet leg monitor every move can't step sidewalk he's give nickname pepto vagrant write forehead bolt meet character include woman name molly lesley ann warren ex-dancer get divorce losing home pal sailor howard morris fume teddy wilson already use street they're survivor bolt he's use reach mutual agreement like rich fight flight kill killed.while love connection molly bolt necessary plot find life stink one mel brook observant film prior comedy show tender side compare slapstick work blaze saddle young frankenstein spaceballs matter show like something valuable lose next day hand make stupid bet like rich people know money maybe give homeless instead use like monopoly money.or maybe film inspire help others\""
            ]
          },
          "metadata": {
            "tags": []
          },
          "execution_count": 118
        }
      ]
    },
    {
      "cell_type": "markdown",
      "metadata": {
        "id": "zBXsUlgEotCL"
      },
      "source": [
        "# Convert text to document term matrix"
      ]
    },
    {
      "cell_type": "markdown",
      "metadata": {
        "id": "_KB2tu4PFOt9"
      },
      "source": [
        "## tfidf"
      ]
    },
    {
      "cell_type": "code",
      "metadata": {
        "id": "ayq97HmuvTZW"
      },
      "source": [
        "# keras text to matrix\n",
        "tokenizer = tf.keras.preprocessing.text.Tokenizer(num_words= 10000)\n",
        "tokenizer.fit_on_texts(train_X)"
      ],
      "execution_count": null,
      "outputs": []
    },
    {
      "cell_type": "code",
      "metadata": {
        "id": "Qnx3UnGExvzY"
      },
      "source": [
        "x_train = tokenizer.texts_to_matrix(train_X, mode='tfidf')\n",
        "x_test = tokenizer.texts_to_matrix(test_X, mode='tfidf')"
      ],
      "execution_count": null,
      "outputs": []
    },
    {
      "cell_type": "code",
      "metadata": {
        "id": "5xa5xrR_zDpu"
      },
      "source": [
        "# print(x_train.shape)\n",
        "# print(tokenizer.word_index)\n",
        "# print(x_test.shape)"
      ],
      "execution_count": 1,
      "outputs": []
    },
    {
      "cell_type": "markdown",
      "metadata": {
        "id": "XNbV_O4qDP4j"
      },
      "source": [
        "## Count Vectorizer"
      ]
    },
    {
      "cell_type": "code",
      "metadata": {
        "id": "MJX6qIBaDPd5"
      },
      "source": [
        "vectorizer = CountVectorizer(max_features=10000)\n",
        "cv_train = vectorizer.fit_transform(train_X).toarray()\n",
        "cv_test = vectorizer.fit_transform(test_X).toarray()"
      ],
      "execution_count": null,
      "outputs": []
    },
    {
      "cell_type": "markdown",
      "metadata": {
        "id": "d-9Ak-T4pFbg"
      },
      "source": [
        "# Classifiers"
      ]
    },
    {
      "cell_type": "markdown",
      "metadata": {
        "id": "kpoIEtsmMWmq"
      },
      "source": [
        "## Model 1 - Multinomial Naive Bayes"
      ]
    },
    {
      "cell_type": "code",
      "metadata": {
        "id": "1l0UtUYi9lae",
        "colab": {
          "base_uri": "https://localhost:8080/",
          "height": 34
        },
        "outputId": "0b73257c-0923-46ae-ab14-b2f03b015198"
      },
      "source": [
        "clf = MultinomialNB()\n",
        "clf.fit(x_train, train_labels)"
      ],
      "execution_count": null,
      "outputs": [
        {
          "output_type": "execute_result",
          "data": {
            "text/plain": [
              "MultinomialNB(alpha=1.0, class_prior=None, fit_prior=True)"
            ]
          },
          "metadata": {
            "tags": []
          },
          "execution_count": 29
        }
      ]
    },
    {
      "cell_type": "markdown",
      "metadata": {
        "id": "sEkA-X-vpMRK"
      },
      "source": [
        "## Evaluation Metrics"
      ]
    },
    {
      "cell_type": "code",
      "metadata": {
        "id": "9mr7EDD1dHZ7"
      },
      "source": [
        "def conf_matrix(y_test,pred):\n",
        "    conf_mat = confusion_matrix(y_test, pred)\n",
        "    print(conf_mat)\n",
        "    TN = conf_mat[0][0]\n",
        "    FP = conf_mat[0][1]\n",
        "    FN = conf_mat[1][0]\n",
        "    TP = conf_mat[1][1]\n",
        "    Accuracy = (TP+TN)/(TP+FP+TN+FN)\n",
        "    Precision = TP/(TP+FP)\n",
        "    Recall = TP/(TP+FN)\n",
        "    f1_score = (2*Precision*Recall)/(Precision + Recall)\n",
        "    result = pd.DataFrame({'Accuracy':[Accuracy], 'Precision':[Precision], 'Recall':[Recall], 'f1_score':[f1_score]})\n",
        "    print(result)"
      ],
      "execution_count": null,
      "outputs": []
    },
    {
      "cell_type": "code",
      "metadata": {
        "id": "5nx-k6knno2z",
        "colab": {
          "base_uri": "https://localhost:8080/",
          "height": 84
        },
        "outputId": "c49c2f6d-2831-4ef0-da48-2262914c3510"
      },
      "source": [
        "mnb_pred_train = clf.predict(x_train)\n",
        "conf_matrix(train_labels,mnb_pred_train)"
      ],
      "execution_count": null,
      "outputs": [
        {
          "output_type": "stream",
          "text": [
            "[[11128  1372]\n",
            " [ 1827 10673]]\n",
            "   Accuracy  Precision   Recall  f1_score\n",
            "0   0.87204   0.886094  0.85384  0.869668\n"
          ],
          "name": "stdout"
        }
      ]
    },
    {
      "cell_type": "code",
      "metadata": {
        "id": "1ZETn0iBekoC",
        "colab": {
          "base_uri": "https://localhost:8080/",
          "height": 84
        },
        "outputId": "98b28845-6ea5-4e06-bbb9-22b5942d3807"
      },
      "source": [
        "mnb_pred_test = clf.predict(x_test)\n",
        "conf_matrix(test_labels, mnb_pred_test)"
      ],
      "execution_count": null,
      "outputs": [
        {
          "output_type": "stream",
          "text": [
            "[[10881  1619]\n",
            " [ 2932  9568]]\n",
            "   Accuracy  Precision   Recall  f1_score\n",
            "0   0.81796   0.855278  0.76544  0.807869\n"
          ],
          "name": "stdout"
        }
      ]
    },
    {
      "cell_type": "markdown",
      "metadata": {
        "id": "5rhni51zfb4T"
      },
      "source": [
        "## Model 2 - Logistic Regression"
      ]
    },
    {
      "cell_type": "code",
      "metadata": {
        "id": "EMpG_xQi96EO",
        "colab": {
          "base_uri": "https://localhost:8080/",
          "height": 101
        },
        "outputId": "f53c1995-e8a5-4a68-f245-991cc7038dcc"
      },
      "source": [
        "log = LogisticRegression(solver = 'newton-cg')\n",
        "log.fit(x_train, train_labels)"
      ],
      "execution_count": null,
      "outputs": [
        {
          "output_type": "execute_result",
          "data": {
            "text/plain": [
              "LogisticRegression(C=1.0, class_weight=None, dual=False, fit_intercept=True,\n",
              "                   intercept_scaling=1, l1_ratio=None, max_iter=100,\n",
              "                   multi_class='warn', n_jobs=None, penalty='l2',\n",
              "                   random_state=None, solver='newton-cg', tol=0.0001, verbose=0,\n",
              "                   warm_start=False)"
            ]
          },
          "metadata": {
            "tags": []
          },
          "execution_count": 33
        }
      ]
    },
    {
      "cell_type": "code",
      "metadata": {
        "id": "Gz9Nw3fQphXG",
        "colab": {
          "base_uri": "https://localhost:8080/",
          "height": 84
        },
        "outputId": "a8518d5c-2564-4c6e-9ef1-1c1822f989dc"
      },
      "source": [
        "log_pred_train = log.predict(x_train)\n",
        "conf_matrix(train_labels, log_pred_train)"
      ],
      "execution_count": null,
      "outputs": [
        {
          "output_type": "stream",
          "text": [
            "[[12500     0]\n",
            " [    0 12500]]\n",
            "   Accuracy  Precision  Recall  f1_score\n",
            "0       1.0        1.0     1.0       1.0\n"
          ],
          "name": "stdout"
        }
      ]
    },
    {
      "cell_type": "code",
      "metadata": {
        "id": "vJKpjNN4N75E",
        "colab": {
          "base_uri": "https://localhost:8080/",
          "height": 84
        },
        "outputId": "494a311c-da91-4b25-a7ba-0b062c09a2df"
      },
      "source": [
        "log_pred_test = log.predict(x_test)\n",
        "conf_matrix(test_labels, log_pred_test)"
      ],
      "execution_count": null,
      "outputs": [
        {
          "output_type": "stream",
          "text": [
            "[[10612  1888]\n",
            " [ 2318 10182]]\n",
            "   Accuracy  Precision   Recall  f1_score\n",
            "0   0.83176   0.843579  0.81456  0.828816\n"
          ],
          "name": "stdout"
        }
      ]
    },
    {
      "cell_type": "code",
      "metadata": {
        "id": "i2IkRK0waVCW"
      },
      "source": [
        "def logisticregression(thres):\n",
        "  clf = LogisticRegression(solver = 'lbfgs')\n",
        "  clf.fit(x_train, train_labels)\n",
        "  pred = (clf.predict_proba(x_test)[:,1]>=thres)\n",
        "  conf_mat = confusion_matrix(pred, test_labels)\n",
        "  acc = accuracy_score(pred, test_labels)\n",
        "  TN = conf_mat[0][0]\n",
        "  FP = conf_mat[0][1]\n",
        "  FN = conf_mat[1][0]\n",
        "  TP = conf_mat[1][1]\n",
        "  Accuracy = (TP+TN)/(TP+FP+TN+FN)\n",
        "  Error = (FP+FN)/(TP+FP+TN+FN)\n",
        "  Precision = TP/(TP+FP)\n",
        "  Recall = TP/(TP+FN)\n",
        "  return pd.Series([i, Accuracy, Error, Precision, Recall], \n",
        "                       index=[\"Threshold\",'Accuracy', 'Error', 'Precision', 'Recall'])\n",
        "    "
      ],
      "execution_count": null,
      "outputs": []
    },
    {
      "cell_type": "code",
      "metadata": {
        "id": "lAfQdYV4cVpq",
        "colab": {
          "base_uri": "https://localhost:8080/",
          "height": 573
        },
        "outputId": "a95ffdd7-c846-4fd1-a1ea-58e751a8fb56"
      },
      "source": [
        "log_df = pd.DataFrame(columns=[\"Threshold\",'Accuracy', 'Error', 'Precision', 'Recall'])\n",
        "log_thres = [0.2,0.3,0.4,0.5,0.6,0.7,0.8,0.9]\n",
        "for i in log_thres:\n",
        "    log_df = log_df.append(logisticregression(i),ignore_index=True)\n",
        "display(log_df)"
      ],
      "execution_count": null,
      "outputs": [
        {
          "output_type": "stream",
          "text": [
            "/usr/local/lib/python3.6/dist-packages/sklearn/linear_model/logistic.py:947: ConvergenceWarning: lbfgs failed to converge. Increase the number of iterations.\n",
            "  \"of iterations.\", ConvergenceWarning)\n",
            "/usr/local/lib/python3.6/dist-packages/sklearn/linear_model/logistic.py:947: ConvergenceWarning: lbfgs failed to converge. Increase the number of iterations.\n",
            "  \"of iterations.\", ConvergenceWarning)\n",
            "/usr/local/lib/python3.6/dist-packages/sklearn/linear_model/logistic.py:947: ConvergenceWarning: lbfgs failed to converge. Increase the number of iterations.\n",
            "  \"of iterations.\", ConvergenceWarning)\n",
            "/usr/local/lib/python3.6/dist-packages/sklearn/linear_model/logistic.py:947: ConvergenceWarning: lbfgs failed to converge. Increase the number of iterations.\n",
            "  \"of iterations.\", ConvergenceWarning)\n",
            "/usr/local/lib/python3.6/dist-packages/sklearn/linear_model/logistic.py:947: ConvergenceWarning: lbfgs failed to converge. Increase the number of iterations.\n",
            "  \"of iterations.\", ConvergenceWarning)\n",
            "/usr/local/lib/python3.6/dist-packages/sklearn/linear_model/logistic.py:947: ConvergenceWarning: lbfgs failed to converge. Increase the number of iterations.\n",
            "  \"of iterations.\", ConvergenceWarning)\n",
            "/usr/local/lib/python3.6/dist-packages/sklearn/linear_model/logistic.py:947: ConvergenceWarning: lbfgs failed to converge. Increase the number of iterations.\n",
            "  \"of iterations.\", ConvergenceWarning)\n",
            "/usr/local/lib/python3.6/dist-packages/sklearn/linear_model/logistic.py:947: ConvergenceWarning: lbfgs failed to converge. Increase the number of iterations.\n",
            "  \"of iterations.\", ConvergenceWarning)\n"
          ],
          "name": "stderr"
        },
        {
          "output_type": "display_data",
          "data": {
            "text/html": [
              "<div>\n",
              "<style scoped>\n",
              "    .dataframe tbody tr th:only-of-type {\n",
              "        vertical-align: middle;\n",
              "    }\n",
              "\n",
              "    .dataframe tbody tr th {\n",
              "        vertical-align: top;\n",
              "    }\n",
              "\n",
              "    .dataframe thead th {\n",
              "        text-align: right;\n",
              "    }\n",
              "</style>\n",
              "<table border=\"1\" class=\"dataframe\">\n",
              "  <thead>\n",
              "    <tr style=\"text-align: right;\">\n",
              "      <th></th>\n",
              "      <th>Threshold</th>\n",
              "      <th>Accuracy</th>\n",
              "      <th>Error</th>\n",
              "      <th>Precision</th>\n",
              "      <th>Recall</th>\n",
              "    </tr>\n",
              "  </thead>\n",
              "  <tbody>\n",
              "    <tr>\n",
              "      <th>0</th>\n",
              "      <td>0.2</td>\n",
              "      <td>0.83164</td>\n",
              "      <td>0.16836</td>\n",
              "      <td>0.84968</td>\n",
              "      <td>0.820091</td>\n",
              "    </tr>\n",
              "    <tr>\n",
              "      <th>1</th>\n",
              "      <td>0.3</td>\n",
              "      <td>0.83228</td>\n",
              "      <td>0.16772</td>\n",
              "      <td>0.83672</td>\n",
              "      <td>0.829355</td>\n",
              "    </tr>\n",
              "    <tr>\n",
              "      <th>2</th>\n",
              "      <td>0.4</td>\n",
              "      <td>0.83248</td>\n",
              "      <td>0.16752</td>\n",
              "      <td>0.82616</td>\n",
              "      <td>0.836736</td>\n",
              "    </tr>\n",
              "    <tr>\n",
              "      <th>3</th>\n",
              "      <td>0.5</td>\n",
              "      <td>0.83204</td>\n",
              "      <td>0.16796</td>\n",
              "      <td>0.81480</td>\n",
              "      <td>0.843898</td>\n",
              "    </tr>\n",
              "    <tr>\n",
              "      <th>4</th>\n",
              "      <td>0.6</td>\n",
              "      <td>0.83116</td>\n",
              "      <td>0.16884</td>\n",
              "      <td>0.80384</td>\n",
              "      <td>0.850300</td>\n",
              "    </tr>\n",
              "    <tr>\n",
              "      <th>5</th>\n",
              "      <td>0.7</td>\n",
              "      <td>0.83132</td>\n",
              "      <td>0.16868</td>\n",
              "      <td>0.79400</td>\n",
              "      <td>0.858044</td>\n",
              "    </tr>\n",
              "    <tr>\n",
              "      <th>6</th>\n",
              "      <td>0.8</td>\n",
              "      <td>0.82816</td>\n",
              "      <td>0.17184</td>\n",
              "      <td>0.77624</td>\n",
              "      <td>0.866185</td>\n",
              "    </tr>\n",
              "    <tr>\n",
              "      <th>7</th>\n",
              "      <td>0.9</td>\n",
              "      <td>0.82140</td>\n",
              "      <td>0.17860</td>\n",
              "      <td>0.74848</td>\n",
              "      <td>0.876276</td>\n",
              "    </tr>\n",
              "  </tbody>\n",
              "</table>\n",
              "</div>"
            ],
            "text/plain": [
              "   Threshold  Accuracy    Error  Precision    Recall\n",
              "0        0.2   0.83164  0.16836    0.84968  0.820091\n",
              "1        0.3   0.83228  0.16772    0.83672  0.829355\n",
              "2        0.4   0.83248  0.16752    0.82616  0.836736\n",
              "3        0.5   0.83204  0.16796    0.81480  0.843898\n",
              "4        0.6   0.83116  0.16884    0.80384  0.850300\n",
              "5        0.7   0.83132  0.16868    0.79400  0.858044\n",
              "6        0.8   0.82816  0.17184    0.77624  0.866185\n",
              "7        0.9   0.82140  0.17860    0.74848  0.876276"
            ]
          },
          "metadata": {
            "tags": []
          }
        }
      ]
    },
    {
      "cell_type": "markdown",
      "metadata": {
        "id": "FbPRRUGVNYcW"
      },
      "source": [
        "## Model 3 - LDA"
      ]
    },
    {
      "cell_type": "code",
      "metadata": {
        "id": "Whj8mvW6NykU",
        "colab": {
          "base_uri": "https://localhost:8080/",
          "height": 84
        },
        "outputId": "096e5e87-9012-4b0d-fed8-ade89ab67ee3"
      },
      "source": [
        "lda = LinearDiscriminantAnalysis()\n",
        "lda.fit(x_train, train_labels)"
      ],
      "execution_count": null,
      "outputs": [
        {
          "output_type": "stream",
          "text": [
            "/usr/local/lib/python3.6/dist-packages/sklearn/discriminant_analysis.py:388: UserWarning: Variables are collinear.\n",
            "  warnings.warn(\"Variables are collinear.\")\n"
          ],
          "name": "stderr"
        },
        {
          "output_type": "execute_result",
          "data": {
            "text/plain": [
              "LinearDiscriminantAnalysis(n_components=None, priors=None, shrinkage=None,\n",
              "                           solver='svd', store_covariance=False, tol=0.0001)"
            ]
          },
          "metadata": {
            "tags": []
          },
          "execution_count": 37
        }
      ]
    },
    {
      "cell_type": "code",
      "metadata": {
        "id": "_JvxsUUw8FiO",
        "colab": {
          "base_uri": "https://localhost:8080/",
          "height": 84
        },
        "outputId": "5301cfe3-f299-48bb-afb7-07e4908f4928"
      },
      "source": [
        "lda_pred_train = lda.predict(x_train)\n",
        "conf_matrix(train_labels, lda_pred_train)"
      ],
      "execution_count": null,
      "outputs": [
        {
          "output_type": "stream",
          "text": [
            "[[11963   537]\n",
            " [  441 12059]]\n",
            "   Accuracy  Precision   Recall  f1_score\n",
            "0   0.96088   0.957367  0.96472   0.96103\n"
          ],
          "name": "stdout"
        }
      ]
    },
    {
      "cell_type": "code",
      "metadata": {
        "id": "erTkAgARXUX5",
        "colab": {
          "base_uri": "https://localhost:8080/",
          "height": 84
        },
        "outputId": "4bc13c43-d018-4e20-e917-e340c97cfab0"
      },
      "source": [
        "lda_pred_test = lda.predict(x_test)\n",
        "conf_matrix(test_labels, lda_pred_test)"
      ],
      "execution_count": null,
      "outputs": [
        {
          "output_type": "stream",
          "text": [
            "[[10045  2455]\n",
            " [ 2783  9717]]\n",
            "   Accuracy  Precision   Recall  f1_score\n",
            "0   0.79048   0.798308  0.77736  0.787695\n"
          ],
          "name": "stdout"
        }
      ]
    },
    {
      "cell_type": "markdown",
      "metadata": {
        "id": "SoQPDzTjX1z_"
      },
      "source": [
        "## Model 4- Decision Tree"
      ]
    },
    {
      "cell_type": "code",
      "metadata": {
        "id": "H8i4c-bSXuoK",
        "colab": {
          "base_uri": "https://localhost:8080/",
          "height": 118
        },
        "outputId": "f17a1b4e-ba2e-4f71-ad84-2b5a2c708b8a"
      },
      "source": [
        "dt = DecisionTreeClassifier()\n",
        "dt.fit(x_train, train_labels)"
      ],
      "execution_count": null,
      "outputs": [
        {
          "output_type": "execute_result",
          "data": {
            "text/plain": [
              "DecisionTreeClassifier(class_weight=None, criterion='gini', max_depth=None,\n",
              "                       max_features=None, max_leaf_nodes=None,\n",
              "                       min_impurity_decrease=0.0, min_impurity_split=None,\n",
              "                       min_samples_leaf=1, min_samples_split=2,\n",
              "                       min_weight_fraction_leaf=0.0, presort=False,\n",
              "                       random_state=None, splitter='best')"
            ]
          },
          "metadata": {
            "tags": []
          },
          "execution_count": 40
        }
      ]
    },
    {
      "cell_type": "code",
      "metadata": {
        "id": "P5VvB1roaVwb",
        "colab": {
          "base_uri": "https://localhost:8080/",
          "height": 84
        },
        "outputId": "5ecb337a-bbe7-4083-9696-881492413e08"
      },
      "source": [
        "dt_pred_train = dt.predict(x_train)\n",
        "conf_matrix(train_labels, dt_pred_train)"
      ],
      "execution_count": null,
      "outputs": [
        {
          "output_type": "stream",
          "text": [
            "[[12500     0]\n",
            " [    0 12500]]\n",
            "   Accuracy  Precision  Recall  f1_score\n",
            "0       1.0        1.0     1.0       1.0\n"
          ],
          "name": "stdout"
        }
      ]
    },
    {
      "cell_type": "code",
      "metadata": {
        "id": "v2AVVQEaX9Qu",
        "colab": {
          "base_uri": "https://localhost:8080/",
          "height": 84
        },
        "outputId": "15e4f95f-39db-400a-8104-bee2b6648f03"
      },
      "source": [
        "dt_pred_test = dt.predict(x_test)\n",
        "conf_matrix(test_labels, dt_pred_test)"
      ],
      "execution_count": null,
      "outputs": [
        {
          "output_type": "stream",
          "text": [
            "[[9073 3427]\n",
            " [3548 8952]]\n",
            "   Accuracy  Precision   Recall  f1_score\n",
            "0     0.721    0.72316  0.71616  0.719643\n"
          ],
          "name": "stdout"
        }
      ]
    },
    {
      "cell_type": "markdown",
      "metadata": {
        "id": "k52liMTxkcj0"
      },
      "source": [
        "## Model 5 - Linear SVC"
      ]
    },
    {
      "cell_type": "code",
      "metadata": {
        "id": "pS9B8EGWjBv8",
        "colab": {
          "base_uri": "https://localhost:8080/",
          "height": 138
        },
        "outputId": "c4accf03-53c8-42a3-8723-5468607a5ea5"
      },
      "source": [
        "linear_svc = LinearSVC()\n",
        "linear_svc.fit(x_train, train_labels)"
      ],
      "execution_count": null,
      "outputs": [
        {
          "output_type": "stream",
          "text": [
            "/usr/local/lib/python3.6/dist-packages/sklearn/svm/base.py:929: ConvergenceWarning: Liblinear failed to converge, increase the number of iterations.\n",
            "  \"the number of iterations.\", ConvergenceWarning)\n"
          ],
          "name": "stderr"
        },
        {
          "output_type": "execute_result",
          "data": {
            "text/plain": [
              "LinearSVC(C=1.0, class_weight=None, dual=True, fit_intercept=True,\n",
              "          intercept_scaling=1, loss='squared_hinge', max_iter=1000,\n",
              "          multi_class='ovr', penalty='l2', random_state=None, tol=0.0001,\n",
              "          verbose=0)"
            ]
          },
          "metadata": {
            "tags": []
          },
          "execution_count": 43
        }
      ]
    },
    {
      "cell_type": "code",
      "metadata": {
        "id": "sK04_WzzMgQd",
        "colab": {
          "base_uri": "https://localhost:8080/",
          "height": 84
        },
        "outputId": "6f387a08-9211-4ea0-a613-c7459d6eade3"
      },
      "source": [
        "linear_svc_pred_train =linear_svc.predict(x_train)\n",
        "conf_matrix(train_labels,linear_svc_pred_train)"
      ],
      "execution_count": null,
      "outputs": [
        {
          "output_type": "stream",
          "text": [
            "[[12500     0]\n",
            " [    0 12500]]\n",
            "   Accuracy  Precision  Recall  f1_score\n",
            "0       1.0        1.0     1.0       1.0\n"
          ],
          "name": "stdout"
        }
      ]
    },
    {
      "cell_type": "code",
      "metadata": {
        "id": "AN0iCK2hlSIh",
        "colab": {
          "base_uri": "https://localhost:8080/",
          "height": 84
        },
        "outputId": "75f3964b-17f3-4183-8f4c-ab226055af3d"
      },
      "source": [
        "linear_svc_pred_test =linear_svc.predict(x_test)\n",
        "conf_matrix(test_labels,linear_svc_pred_test)"
      ],
      "execution_count": null,
      "outputs": [
        {
          "output_type": "stream",
          "text": [
            "[[10466  2034]\n",
            " [ 2511  9989]]\n",
            "   Accuracy  Precision   Recall  f1_score\n",
            "0    0.8182   0.830824  0.79912  0.814664\n"
          ],
          "name": "stdout"
        }
      ]
    },
    {
      "cell_type": "markdown",
      "metadata": {
        "id": "ZS9IS4Z6G80g"
      },
      "source": [
        "# Ensemble Learning"
      ]
    },
    {
      "cell_type": "markdown",
      "metadata": {
        "id": "1zMYUE3QG_uG"
      },
      "source": [
        "## Model - Random Forest"
      ]
    },
    {
      "cell_type": "code",
      "metadata": {
        "id": "j55KPN2XHDUX"
      },
      "source": [
        "def Random_Forest(estimators, dataset):\n",
        "    clf = RandomForestClassifier(n_estimators=estimators)\n",
        "    clf.fit(x_train, train_labels)\n",
        "    if dataset == \"train\":\n",
        "        pred = clf.predict(x_train)\n",
        "        conf_mat = confusion_matrix(train_labels, pred)\n",
        "    else:\n",
        "        pred = clf.predict(x_test)\n",
        "        conf_mat = confusion_matrix(test_labels, pred)\n",
        "    TN = conf_mat[0][0]\n",
        "    FP = conf_mat[0][1]\n",
        "    FN = conf_mat[1][0]\n",
        "    TP = conf_mat[1][1]\n",
        "    Accuracy = (TP+TN)/(TP+FP+TN+FN)\n",
        "    Error = (FP+FN)/(TP+FP+TN+FN)\n",
        "    Precision = TP/(TP+FP)\n",
        "    Recall = TP/(TP+FN)\n",
        "    result = pd.Series([dataset, estimators, Accuracy, Error, Precision, Recall], \n",
        "                       index=['Dataset','Estimators','Accuracy', 'Error', 'Precision', 'Recall'])\n",
        "    return result"
      ],
      "execution_count": null,
      "outputs": []
    },
    {
      "cell_type": "code",
      "metadata": {
        "id": "u8caYFMYHmD-",
        "colab": {
          "base_uri": "https://localhost:8080/",
          "height": 284
        },
        "outputId": "71371ec3-2152-4ecc-956b-a73db3a63707"
      },
      "source": [
        "random_forest_df = pd.DataFrame(columns=['Dataset','Estimators','Accuracy', 'Error', 'Precision', 'Recall'])\n",
        "estimators = [10,50,200,500]\n",
        "dataset = ['train','test']\n",
        "for i in estimators:\n",
        "    for j in dataset:\n",
        "        random_forest_df = random_forest_df.append(Random_Forest(i,j),ignore_index=True)\n",
        "display(random_forest_df)"
      ],
      "execution_count": null,
      "outputs": [
        {
          "output_type": "display_data",
          "data": {
            "text/html": [
              "<div>\n",
              "<style scoped>\n",
              "    .dataframe tbody tr th:only-of-type {\n",
              "        vertical-align: middle;\n",
              "    }\n",
              "\n",
              "    .dataframe tbody tr th {\n",
              "        vertical-align: top;\n",
              "    }\n",
              "\n",
              "    .dataframe thead th {\n",
              "        text-align: right;\n",
              "    }\n",
              "</style>\n",
              "<table border=\"1\" class=\"dataframe\">\n",
              "  <thead>\n",
              "    <tr style=\"text-align: right;\">\n",
              "      <th></th>\n",
              "      <th>Dataset</th>\n",
              "      <th>Estimators</th>\n",
              "      <th>Accuracy</th>\n",
              "      <th>Error</th>\n",
              "      <th>Precision</th>\n",
              "      <th>Recall</th>\n",
              "    </tr>\n",
              "  </thead>\n",
              "  <tbody>\n",
              "    <tr>\n",
              "      <th>0</th>\n",
              "      <td>train</td>\n",
              "      <td>10</td>\n",
              "      <td>0.99364</td>\n",
              "      <td>0.00636</td>\n",
              "      <td>0.998304</td>\n",
              "      <td>0.98896</td>\n",
              "    </tr>\n",
              "    <tr>\n",
              "      <th>1</th>\n",
              "      <td>test</td>\n",
              "      <td>10</td>\n",
              "      <td>0.77460</td>\n",
              "      <td>0.22540</td>\n",
              "      <td>0.818325</td>\n",
              "      <td>0.70592</td>\n",
              "    </tr>\n",
              "    <tr>\n",
              "      <th>2</th>\n",
              "      <td>train</td>\n",
              "      <td>50</td>\n",
              "      <td>1.00000</td>\n",
              "      <td>0.00000</td>\n",
              "      <td>1.000000</td>\n",
              "      <td>1.00000</td>\n",
              "    </tr>\n",
              "    <tr>\n",
              "      <th>3</th>\n",
              "      <td>test</td>\n",
              "      <td>50</td>\n",
              "      <td>0.83592</td>\n",
              "      <td>0.16408</td>\n",
              "      <td>0.845029</td>\n",
              "      <td>0.82272</td>\n",
              "    </tr>\n",
              "    <tr>\n",
              "      <th>4</th>\n",
              "      <td>train</td>\n",
              "      <td>200</td>\n",
              "      <td>1.00000</td>\n",
              "      <td>0.00000</td>\n",
              "      <td>1.000000</td>\n",
              "      <td>1.00000</td>\n",
              "    </tr>\n",
              "    <tr>\n",
              "      <th>5</th>\n",
              "      <td>test</td>\n",
              "      <td>200</td>\n",
              "      <td>0.85276</td>\n",
              "      <td>0.14724</td>\n",
              "      <td>0.858467</td>\n",
              "      <td>0.84480</td>\n",
              "    </tr>\n",
              "    <tr>\n",
              "      <th>6</th>\n",
              "      <td>train</td>\n",
              "      <td>500</td>\n",
              "      <td>1.00000</td>\n",
              "      <td>0.00000</td>\n",
              "      <td>1.000000</td>\n",
              "      <td>1.00000</td>\n",
              "    </tr>\n",
              "    <tr>\n",
              "      <th>7</th>\n",
              "      <td>test</td>\n",
              "      <td>500</td>\n",
              "      <td>0.85884</td>\n",
              "      <td>0.14116</td>\n",
              "      <td>0.859905</td>\n",
              "      <td>0.85736</td>\n",
              "    </tr>\n",
              "  </tbody>\n",
              "</table>\n",
              "</div>"
            ],
            "text/plain": [
              "  Dataset Estimators  Accuracy    Error  Precision   Recall\n",
              "0   train         10   0.99364  0.00636   0.998304  0.98896\n",
              "1    test         10   0.77460  0.22540   0.818325  0.70592\n",
              "2   train         50   1.00000  0.00000   1.000000  1.00000\n",
              "3    test         50   0.83592  0.16408   0.845029  0.82272\n",
              "4   train        200   1.00000  0.00000   1.000000  1.00000\n",
              "5    test        200   0.85276  0.14724   0.858467  0.84480\n",
              "6   train        500   1.00000  0.00000   1.000000  1.00000\n",
              "7    test        500   0.85884  0.14116   0.859905  0.85736"
            ]
          },
          "metadata": {
            "tags": []
          }
        }
      ]
    },
    {
      "cell_type": "markdown",
      "metadata": {
        "id": "L_U5zRYHIylu"
      },
      "source": [
        "## Model - Adaboost"
      ]
    },
    {
      "cell_type": "code",
      "metadata": {
        "id": "gGCxMIjjI1bp"
      },
      "source": [
        "def Adaboost(estimators, dataset):\n",
        "    clf = AdaBoostClassifier(n_estimators= estimators)\n",
        "    clf.fit(x_train, train_labels)\n",
        "    if dataset == \"train\":\n",
        "        pred = clf.predict(x_train)\n",
        "        conf_mat = confusion_matrix(pred,train_labels)\n",
        "    else:\n",
        "        pred = clf.predict(x_test)\n",
        "        conf_mat = confusion_matrix(pred,test_labels)\n",
        "    TN = conf_mat[0][0]\n",
        "    FP = conf_mat[0][1]\n",
        "    FN = conf_mat[1][0]\n",
        "    TP = conf_mat[1][1]\n",
        "    Accuracy = (TP+TN)/(TP+FP+TN+FN)\n",
        "    Error = (FP+FN)/(TP+FP+TN+FN)\n",
        "    Precision = TP/(TP+FP)\n",
        "    Recall = TP/(TP+FN)\n",
        "    result = pd.Series([dataset, estimators, Accuracy, Error, Precision, Recall], \n",
        "                       index=['Dataset','Estimators','Accuracy', 'Error', 'Precision', 'Recall'])\n",
        "    return result"
      ],
      "execution_count": null,
      "outputs": []
    },
    {
      "cell_type": "code",
      "metadata": {
        "id": "0dRVWG-II5h7",
        "colab": {
          "base_uri": "https://localhost:8080/",
          "height": 106
        },
        "outputId": "5e3bc73f-a213-482b-f7ec-29b69976d8ff"
      },
      "source": [
        "adaboost_df = pd.DataFrame(columns=['Dataset','Estimators','Accuracy', 'Error', 'Precision', 'Recall'])\n",
        "estimators = [10]\n",
        "dataset = ['train','test']\n",
        "for i in estimators:\n",
        "    for j in dataset:\n",
        "        adaboost_df = adaboost_df.append(Adaboost(i,j),ignore_index=True)\n",
        "display(adaboost_df)"
      ],
      "execution_count": null,
      "outputs": [
        {
          "output_type": "display_data",
          "data": {
            "text/html": [
              "<div>\n",
              "<style scoped>\n",
              "    .dataframe tbody tr th:only-of-type {\n",
              "        vertical-align: middle;\n",
              "    }\n",
              "\n",
              "    .dataframe tbody tr th {\n",
              "        vertical-align: top;\n",
              "    }\n",
              "\n",
              "    .dataframe thead th {\n",
              "        text-align: right;\n",
              "    }\n",
              "</style>\n",
              "<table border=\"1\" class=\"dataframe\">\n",
              "  <thead>\n",
              "    <tr style=\"text-align: right;\">\n",
              "      <th></th>\n",
              "      <th>Dataset</th>\n",
              "      <th>Estimators</th>\n",
              "      <th>Accuracy</th>\n",
              "      <th>Error</th>\n",
              "      <th>Precision</th>\n",
              "      <th>Recall</th>\n",
              "    </tr>\n",
              "  </thead>\n",
              "  <tbody>\n",
              "    <tr>\n",
              "      <th>0</th>\n",
              "      <td>train</td>\n",
              "      <td>10</td>\n",
              "      <td>0.72192</td>\n",
              "      <td>0.27808</td>\n",
              "      <td>0.86768</td>\n",
              "      <td>0.671829</td>\n",
              "    </tr>\n",
              "    <tr>\n",
              "      <th>1</th>\n",
              "      <td>test</td>\n",
              "      <td>10</td>\n",
              "      <td>0.72896</td>\n",
              "      <td>0.27104</td>\n",
              "      <td>0.86472</td>\n",
              "      <td>0.680068</td>\n",
              "    </tr>\n",
              "  </tbody>\n",
              "</table>\n",
              "</div>"
            ],
            "text/plain": [
              "  Dataset Estimators  Accuracy    Error  Precision    Recall\n",
              "0   train         10   0.72192  0.27808    0.86768  0.671829\n",
              "1    test         10   0.72896  0.27104    0.86472  0.680068"
            ]
          },
          "metadata": {
            "tags": []
          }
        }
      ]
    },
    {
      "cell_type": "markdown",
      "metadata": {
        "id": "KR6DHSyT29WR"
      },
      "source": [
        "## Model - Adaboost with logistic regression"
      ]
    },
    {
      "cell_type": "code",
      "metadata": {
        "id": "qjNzBrfFYY41",
        "colab": {
          "base_uri": "https://localhost:8080/",
          "height": 252
        },
        "outputId": "b784b5c8-a828-4980-f382-ff8274202d62"
      },
      "source": [
        "log_adaboost = AdaBoostClassifier(base_estimator=LogisticRegression(solver = 'lbfgs'), n_estimators=12)\n",
        "log_adaboost.fit(x_train, train_labels)"
      ],
      "execution_count": null,
      "outputs": [
        {
          "output_type": "execute_result",
          "data": {
            "text/plain": [
              "AdaBoostClassifier(algorithm='SAMME.R',\n",
              "                   base_estimator=LogisticRegression(C=1.0, class_weight=None,\n",
              "                                                     dual=False,\n",
              "                                                     fit_intercept=True,\n",
              "                                                     intercept_scaling=1,\n",
              "                                                     l1_ratio=None,\n",
              "                                                     max_iter=100,\n",
              "                                                     multi_class='warn',\n",
              "                                                     n_jobs=None, penalty='l2',\n",
              "                                                     random_state=None,\n",
              "                                                     solver='lbfgs', tol=0.0001,\n",
              "                                                     verbose=0,\n",
              "                                                     warm_start=False),\n",
              "                   learning_rate=1.0, n_estimators=12, random_state=None)"
            ]
          },
          "metadata": {
            "tags": []
          },
          "execution_count": 47
        }
      ]
    },
    {
      "cell_type": "code",
      "metadata": {
        "id": "j4d4L2oR28Mo",
        "colab": {
          "base_uri": "https://localhost:8080/",
          "height": 84
        },
        "outputId": "ebb70bdf-3faa-4389-ff91-bb1130a07c4e"
      },
      "source": [
        "log_adaboost_pred_train = log_adaboost.predict(x_train)\n",
        "conf_matrix(train_labels,log_adaboost_pred_train)"
      ],
      "execution_count": null,
      "outputs": [
        {
          "output_type": "stream",
          "text": [
            "[[11485  1015]\n",
            " [  809 11691]]\n",
            "   Accuracy  Precision   Recall  f1_score\n",
            "0   0.92704   0.920116  0.93528  0.927636\n"
          ],
          "name": "stdout"
        }
      ]
    },
    {
      "cell_type": "code",
      "metadata": {
        "id": "f63TbL-HY0Ge",
        "colab": {
          "base_uri": "https://localhost:8080/",
          "height": 84
        },
        "outputId": "e79eff09-3925-4e50-df93-a2fe936ed3c7"
      },
      "source": [
        "log_adaboost_pred_test = log_adaboost.predict(x_test)\n",
        "conf_matrix(test_labels,log_adaboost_pred_test)"
      ],
      "execution_count": null,
      "outputs": [
        {
          "output_type": "stream",
          "text": [
            "[[11068  1432]\n",
            " [ 1450 11050]]\n",
            "   Accuracy  Precision  Recall  f1_score\n",
            "0   0.88472   0.885275   0.884  0.884637\n"
          ],
          "name": "stdout"
        }
      ]
    },
    {
      "cell_type": "markdown",
      "metadata": {
        "id": "6vLYbCdu9yeG"
      },
      "source": [
        "# ROC"
      ]
    },
    {
      "cell_type": "code",
      "metadata": {
        "id": "WV-XDXme8baU",
        "colab": {
          "base_uri": "https://localhost:8080/",
          "height": 350
        },
        "outputId": "8e0b3f7a-e56c-40f1-ab83-a0ce9a8ee7a7"
      },
      "source": [
        "plt.figure(figsize=(8,5))\n",
        "nb_pred_prob = clf.predict_proba(x_test)\n",
        "nb_pred_prob = nb_pred_prob[:,1]\n",
        "auc = roc_auc_score(test_labels, nb_pred_prob)\n",
        "fpr, tpr,thres = roc_curve(test_labels,nb_pred_prob)\n",
        "plt.plot(fpr, tpr, color='brown', label='Naive Bayes ROC (AUC = %0.2f)' % auc)\n",
        "\n",
        "logreg_pred_prob = log.predict_proba(x_test)\n",
        "logreg_pred_prob = logreg_pred_prob[:,1]\n",
        "auc = roc_auc_score(test_labels, logreg_pred_prob)\n",
        "fpr, tpr,thres = roc_curve(test_labels,logreg_pred_prob)\n",
        "plt.plot(fpr, tpr, color='orange', label='Logistic ROC (AUC = %0.2f)' % auc)\n",
        "\n",
        "lda_pred_prob = lda.predict_proba(x_test)\n",
        "lda_pred_prob = lda_pred_prob[:,1]\n",
        "auc = roc_auc_score(test_labels, lda_pred_prob)\n",
        "fpr, tpr,thres = roc_curve(test_labels,lda_pred_prob)\n",
        "plt.plot(fpr, tpr, color='green', label='LDA ROC (AUC = %0.2f)' % auc)\n",
        "\n",
        "dt_pred_prob = dt.predict_proba(x_test)\n",
        "dt_pred_prob = dt_pred_prob[:,1]\n",
        "auc = roc_auc_score(test_labels, dt_pred_prob)\n",
        "fpr, tpr,thres = roc_curve(test_labels,dt_pred_prob)\n",
        "plt.plot(fpr, tpr, color='yellow', label='Decision Tree ROC (AUC = %0.2f)' % auc)\n",
        "\n",
        "log_adaboost_pred = log_adaboost.predict_proba(x_test)\n",
        "log_adaboost_pred = log_adaboost_pred[:,1]\n",
        "auc = roc_auc_score(test_labels, log_adaboost_pred)\n",
        "fpr, tpr,thres = roc_curve(test_labels,log_adaboost_pred)\n",
        "plt.plot(fpr, tpr, color='red', label='Adaboost with Logistic Regression ROC (AUC = %0.2f)' % auc)\n",
        "\n",
        "plt.title('Receiver Operating Characteristic (ROC) Curve')\n",
        "plt.plot([0, 1], [0, 1], color='darkblue', linestyle='--')\n",
        "plt.legend(loc=\"lower right\")\n",
        "plt.xlabel('False Positive Rate')\n",
        "plt.ylabel('True Positive Rate')\n",
        "plt.show()"
      ],
      "execution_count": null,
      "outputs": [
        {
          "output_type": "display_data",
          "data": {
            "image/png": "[encoded data removed]",
            "text/plain": [
              "<Figure size 576x360 with 1 Axes>"
            ]
          },
          "metadata": {
            "tags": []
          }
        }
      ]
    },
    {
      "cell_type": "markdown",
      "metadata": {
        "id": "MwYbZc56STKy"
      },
      "source": [
        "# FF Neural network"
      ]
    },
    {
      "cell_type": "code",
      "metadata": {
        "id": "SqGbUG5eSq3P"
      },
      "source": [
        "x_train_ffnn = tf.keras.utils.normalize(x_train, axis=1)\n",
        "x_test_ffnn = tf.keras.utils.normalize(x_test, axis=1)"
      ],
      "execution_count": null,
      "outputs": []
    },
    {
      "cell_type": "code",
      "metadata": {
        "id": "2_RV3yGZW7gY"
      },
      "source": [
        "y_train = np.array(train_labels)\n",
        "y_test = np.array(test_labels)"
      ],
      "execution_count": null,
      "outputs": []
    },
    {
      "cell_type": "code",
      "metadata": {
        "id": "eAdSc4XET0Sl"
      },
      "source": [
        "def ffnn(x_train,y_train): \n",
        "  model = tf.keras.models.Sequential()\n",
        "  model.add(tf.keras.layers.Dense(8000, activation=tf.nn.relu))\n",
        "  model.add(tf.keras.layers.Dropout(0.3))\n",
        "  model.add(tf.keras.layers.Dense(6000, activation=tf.nn.relu))\n",
        "  model.add(tf.keras.layers.Dropout(0.3))\n",
        "  model.add(tf.keras.layers.Dense(2000, activation=tf.nn.relu))\n",
        "  model.add(tf.keras.layers.Dropout(0.3))\n",
        "  model.add(tf.keras.layers.Dense(200, activation=tf.nn.relu))\n",
        "  model.add(tf.keras.layers.Dropout(0.3))\n",
        "  model.add(tf.keras.layers.Dense(2, activation=tf.nn.softmax))\n",
        "  model.compile(optimizer = 'adam' , \n",
        "                loss ='sparse_categorical_crossentropy', \n",
        "                metrics = ['accuracy'])\n",
        "  model.fit(x_train,y_train, epochs =3)\n",
        "  return model"
      ],
      "execution_count": null,
      "outputs": []
    },
    {
      "cell_type": "code",
      "metadata": {
        "id": "tbUYv7L-9CGT"
      },
      "source": [
        "ffnn_model = ffnn(x_train_ffnn,y_train)"
      ],
      "execution_count": 2,
      "outputs": []
    },
    {
      "cell_type": "code",
      "metadata": {
        "id": "IGM5Fuf19tT8",
        "colab": {
          "base_uri": "https://localhost:8080/",
          "height": 84
        },
        "outputId": "f3165e9b-f92c-4f28-8c5b-ece248a59cfe"
      },
      "source": [
        "ffnn_pred_train = ffnn_model.predict(x_train_ffnn)\n",
        "ffnn_pred_train = ffnn_pred_train[:,1]>=0.5\n",
        "conf_matrix(train_labels,ffnn_pred_train)"
      ],
      "execution_count": null,
      "outputs": [
        {
          "output_type": "stream",
          "text": [
            "[[12496     4]\n",
            " [   38 12462]]\n",
            "   Accuracy  Precision   Recall  f1_score\n",
            "0   0.99832   0.999679  0.99696  0.998318\n"
          ],
          "name": "stdout"
        }
      ]
    },
    {
      "cell_type": "code",
      "metadata": {
        "id": "y9zp-VyB9-_b",
        "colab": {
          "base_uri": "https://localhost:8080/",
          "height": 84
        },
        "outputId": "3ca3172a-e977-4b44-b483-aeb0d81de9e0"
      },
      "source": [
        "ffnn_pred_test = ffnn_model.predict(x_test_ffnn)\n",
        "ffnn_pred_test = ffnn_pred_test[:,1]>=0.5\n",
        "conf_matrix(test_labels,ffnn_pred_test)"
      ],
      "execution_count": null,
      "outputs": [
        {
          "output_type": "stream",
          "text": [
            "[[11290  1210]\n",
            " [ 2587  9913]]\n",
            "   Accuracy  Precision   Recall  f1_score\n",
            "0   0.84812   0.891216  0.79304  0.839267\n"
          ],
          "name": "stdout"
        }
      ]
    }
  ]
}